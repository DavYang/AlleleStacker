{
 "cells": [
  {
   "cell_type": "markdown",
   "metadata": {},
   "source": [
    "### Date : 11/19/24\n",
    "\n",
    "This test run will use a new set of intial segmentation paramters to enhance resolution (purposeful over segmentation) and boost the generation of query regions.\n",
    "\n",
    "- MethBatv0.13.2 segment : \n",
    "    --min-cpgs 2\n",
    "    --max-gap 200\n",
    "\n"
   ]
  }
 ],
 "metadata": {
  "language_info": {
   "name": "python"
  }
 },
 "nbformat": 4,
 "nbformat_minor": 2
}
