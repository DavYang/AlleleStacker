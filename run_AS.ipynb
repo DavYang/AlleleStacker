{
 "cells": [
  {
   "cell_type": "code",
   "execution_count": null,
   "metadata": {},
   "outputs": [],
   "source": [
    "# Date of creation: 2024-10-18\n",
    "# Author: David Yang\n",
    "# Purpose: Run Allele Stacker \n",
    "\n"
   ]
  },
  {
   "cell_type": "code",
   "execution_count": 1,
   "metadata": {},
   "outputs": [],
   "source": [
    "# Set up environment\n",
    "\n",
    "import os\n",
    "import sys\n",
    "\n",
    "\n",
    "base_dir = \"/gs/gsfs0/shared-lab/greally-lab/David/simple_allele-stacker\"\n",
    "# Set up paths\n",
    "bash_script_path = base_dir + \"/bash\""
   ]
  },
  {
   "cell_type": "markdown",
   "metadata": {},
   "source": [
    "#### STEP 1: Generate segmentation data and prepare outputs for downstream analysis \n",
    "- Generate input consensus regions "
   ]
  },
  {
   "cell_type": "code",
   "execution_count": null,
   "metadata": {},
   "outputs": [
    {
     "name": "stdout",
     "output_type": "stream",
     "text": [
      "Submitted batch job 7841642\n"
     ]
    }
   ],
   "source": [
    "# Step 1a: Segment the samples using the following parameters\n",
    "# - min CpGs = 5\n",
    "# - max gap = 500bp\n",
    "\n",
    "\n",
    "!sbatch $bash_script_path/1a_segment_samples.sh    \n",
    "\n",
    "# outputs in:/gs/gsfs0/shared-lab/greally-lab/David/simple_allele-stacker/outputs/segmentation_regions"
   ]
  },
  {
   "cell_type": "code",
   "execution_count": 8,
   "metadata": {},
   "outputs": [
    {
     "name": "stdout",
     "output_type": "stream",
     "text": [
      "Submitted batch job 7841667\n"
     ]
    }
   ],
   "source": [
    "# Step 1b: Extract the regions by segmentation label\n",
    "!sbatch $bash_script_path/1b_extract-regions.sh\n",
    "\n",
    "# outputs in:  /gs/gsfs0/shared-lab/greally-lab/David/simple_allele-stacker/outputs/segmentation_regions/regions_by_label\n"
   ]
  },
  {
   "cell_type": "code",
   "execution_count": 3,
   "metadata": {},
   "outputs": [
    {
     "name": "stdout",
     "output_type": "stream",
     "text": [
      "Submitted batch job 7875224\n"
     ]
    }
   ],
   "source": [
    "# Step 1c: Extract the consensus regions\n",
    "# Data and summary graphs are generated in the consensus_regions directory\n",
    "!sbatch $bash_script_path/1c_consensus_regions.sh\n",
    "\n",
    "# outputs in: /gs/gsfs0/shared-lab/greally-lab/David/simple_allele-stacker/outputs/consensus_regions\n",
    "# grouped by parameter settings\n"
   ]
  },
  {
   "cell_type": "markdown",
   "metadata": {},
   "source": [
    "#### STEP 2: Filter consensus regions based on methylated regions"
   ]
  },
  {
   "cell_type": "code",
   "execution_count": 37,
   "metadata": {},
   "outputs": [
    {
     "name": "stdout",
     "output_type": "stream",
     "text": [
      "Submitted batch job 7861550\n",
      "Submitted batch job 7861551\n"
     ]
    }
   ],
   "source": [
    "# Step 2a: Filter the consensus regions\n",
    "!sbatch $bash_script_path/2a_filter-consensus.sh H1\n",
    "!sbatch $bash_script_path/2a_filter-consensus.sh H2\n",
    "\n",
    "# outputs in: /gs/gsfs0/shared-lab/greally-lab/David/simple_allele-stacker/outputs/filtered_consensus_regions"
   ]
  },
  {
   "cell_type": "markdown",
   "metadata": {},
   "source": [
    "##### STEP 3: Stack the alleles for IGV viewing\n"
   ]
  },
  {
   "cell_type": "code",
   "execution_count": 6,
   "metadata": {},
   "outputs": [
    {
     "name": "stdout",
     "output_type": "stream",
     "text": [
      "Submitted batch job 7843451\n"
     ]
    }
   ],
   "source": [
    "# Step 3a: Generate allele stacks for IGV of the entire cohort\n",
    "!sbatch $bash_script_path/3a_IGV_all-samples.sh\n",
    "\n",
    "# outputs in: /gs/gsfs0/shared-lab/greally-lab/David/simple_allele-stacker/outputs/allele_stacks/"
   ]
  },
  {
   "cell_type": "code",
   "execution_count": 5,
   "metadata": {},
   "outputs": [
    {
     "name": "stdout",
     "output_type": "stream",
     "text": [
      "Submitted batch job 7842985\n"
     ]
    }
   ],
   "source": [
    "# Step 3b: Create BED files for IGV viewing for the filtered consensus regions\n",
    "!sbatch $bash_script_path/3b_consensus-IGV.sh\n",
    "\n",
    "# outputs in: /gs/gsfs0/shared-lab/greally-lab/David/simple_allele-stacker/outputs/allele_stacks/filtered_consensus"
   ]
  },
  {
   "cell_type": "code",
   "execution_count": 3,
   "metadata": {},
   "outputs": [
    {
     "name": "stdout",
     "output_type": "stream",
     "text": [
      "Submitted batch job 7898717\n"
     ]
    }
   ],
   "source": [
    "# Step 3c: Create BED files for IGV viewing each sample's H1 and H2 segments\n",
    "!sbatch $bash_script_path/3c_IGV-segmentation.sh\n",
    "\n",
    "# outputs in: /gs/gsfs0/shared-lab/greally-lab/David/simple_allele-stacker/outputs/allele_stacks/all_samples/sample_segmentation_haplotypes"
   ]
  },
  {
   "cell_type": "code",
   "execution_count": null,
   "metadata": {},
   "outputs": [],
   "source": [
    "# Map Variants proto:\n",
    "\n",
    "#!/usr/bin/env python3\n",
    "\n",
    "import argparse\n",
    "from pysam import VariantFile\n",
    "import pandas as pd\n",
    "from collections import defaultdict\n",
    "import os\n",
    "from pathlib import Path\n",
    "\n",
    "class SampleVariantMapper:\n",
    "    def __init__(self, vcf_path, bed_path, output_dir):\n",
    "        self.vcf = VariantFile(vcf_path)\n",
    "        self.bed_path = bed_path\n",
    "        self.output_dir = Path(output_dir)\n",
    "        \n",
    "        # Create output directories if they don't exist\n",
    "        self.sample_dir = self.output_dir / 'sample_analysis'\n",
    "        self.sample_dir.mkdir(parents=True, exist_ok=True)\n",
    "        \n",
    "    def parse_bed(self):\n",
    "        \"\"\"Parse BED file with methylation status.\"\"\"\n",
    "        regions = []\n",
    "        with open(self.bed_path, 'r') as f:\n",
    "            # Skip header if present\n",
    "            header = f.readline()\n",
    "            if not header.startswith('chr'):\n",
    "                f.seek(0)\n",
    "                \n",
    "            for line in f:\n",
    "                fields = line.strip().split('\\t')\n",
    "                meth_samples = fields[7].split(',') if fields[7] != '.' else []\n",
    "                unmeth_samples = fields[6].split(',') if fields[6] != '.' else []\n",
    "                \n",
    "                regions.append({\n",
    "                    'chrom': fields[0],\n",
    "                    'start': int(fields[1]),\n",
    "                    'end': int(fields[2]),\n",
    "                    'region_id': f\"{fields[0]}:{fields[1]}-{fields[2]}\",\n",
    "                    'methylated_samples': set(meth_samples),\n",
    "                    'unmethylated_samples': set(unmeth_samples)\n",
    "                })\n",
    "        return regions\n",
    "\n",
    "    def get_variant_info(self, variant):\n",
    "        \"\"\"Extract relevant variant information.\"\"\"\n",
    "        return {\n",
    "            'id': variant.id if variant.id else f\"{variant.chrom}:{variant.pos}\",\n",
    "            'pos': variant.pos,\n",
    "            'ref': variant.ref,\n",
    "            'alt': ','.join(str(a) for a in variant.alts),\n",
    "            'type': self.get_variant_type(variant.ref, variant.alts[0])\n",
    "        }\n",
    "\n",
    "    def get_variant_type(self, ref, alt):\n",
    "        \"\"\"Determine variant type and size.\"\"\"\n",
    "        ref_len = len(ref)\n",
    "        alt_len = len(alt)\n",
    "        \n",
    "        if ref_len == alt_len == 1:\n",
    "            return \"SNV\"\n",
    "        elif ref_len > alt_len:\n",
    "            return f\"DEL:{ref_len - alt_len}bp\"\n",
    "        elif alt_len > ref_len:\n",
    "            return f\"INS:{alt_len - ref_len}bp\"\n",
    "        return \"OTHER\"\n",
    "\n",
    "    def process_sample(self, sample_id, regions):\n",
    "        \"\"\"Process all regions for a specific sample.\"\"\"\n",
    "        sample_data = []\n",
    "        \n",
    "        for region in regions:\n",
    "            variants_in_region = []\n",
    "            genotypes = []\n",
    "            \n",
    "            # Determine methylation status\n",
    "            if sample_id in region['methylated_samples']:\n",
    "                meth_status = 'methylated'\n",
    "                group_size = len(region['methylated_samples'])\n",
    "            elif sample_id in region['unmethylated_samples']:\n",
    "                meth_status = 'unmethylated'\n",
    "                group_size = len(region['unmethylated_samples'])\n",
    "            else:\n",
    "                continue\n",
    "                \n",
    "            # Get variants in region\n",
    "            for variant in self.vcf.fetch(region['chrom'], region['start'], region['end']):\n",
    "                if sample_id in variant.samples:\n",
    "                    gt = variant.samples[sample_id]['GT']\n",
    "                    if gt is not None and sum(gt) > 0:  # Has at least one alt allele\n",
    "                        var_info = self.get_variant_info(variant)\n",
    "                        variants_in_region.append(\n",
    "                            f\"{var_info['id']}:{var_info['pos']}:{var_info['ref']}>{var_info['alt']}\"\n",
    "                        )\n",
    "                        genotypes.append(f\"{gt[0]}|{gt[1]}\")\n",
    "            \n",
    "            if variants_in_region:\n",
    "                sample_data.append({\n",
    "                    'region_id': region['region_id'],\n",
    "                    'chrom': region['chrom'],\n",
    "                    'start': region['start'],\n",
    "                    'end': region['end'],\n",
    "                    'methylation_status': meth_status,\n",
    "                    'region_variants': ','.join(variants_in_region),\n",
    "                    'genotypes': ','.join(genotypes),\n",
    "                    'group_size': group_size\n",
    "                })\n",
    "                \n",
    "        return sample_data\n",
    "\n",
    "    def process_regions(self, regions):\n",
    "        \"\"\"Create summary of all regions.\"\"\"\n",
    "        region_data = []\n",
    "        \n",
    "        for region in regions:\n",
    "            variants_in_region = []\n",
    "            \n",
    "            for variant in self.vcf.fetch(region['chrom'], region['start'], region['end']):\n",
    "                var_info = self.get_variant_info(variant)\n",
    "                # Calculate overall AF\n",
    "                af = sum(1 for sample in variant.samples if sum(variant.samples[sample]['GT'] or [0]) > 0) / len(variant.samples)\n",
    "                variants_in_region.append(f\"{var_info['id']}:{var_info['pos']}:{var_info['ref']}>{var_info['alt']}:AF={af:.3f}\")\n",
    "            \n",
    "            region_data.append({\n",
    "                'region_id': region['region_id'],\n",
    "                'chrom': region['chrom'],\n",
    "                'start': region['start'],\n",
    "                'end': region['end'],\n",
    "                'total_variants': len(variants_in_region),\n",
    "                'methylated_samples': ','.join(region['methylated_samples']),\n",
    "                'unmethylated_samples': ','.join(region['unmethylated_samples']),\n",
    "                'variant_details': ','.join(variants_in_region)\n",
    "            })\n",
    "            \n",
    "        return region_data\n",
    "\n",
    "    def write_outputs(self, sample_data_dict, region_data):\n",
    "        \"\"\"Write all output files.\"\"\"\n",
    "        # Write individual sample files\n",
    "        for sample_id, sample_data in sample_data_dict.items():\n",
    "            if sample_data:  # Only write if sample has data\n",
    "                df = pd.DataFrame(sample_data)\n",
    "                output_file = self.sample_dir / f\"{sample_id}_analysis.tsv\"\n",
    "                df.to_csv(output_file, sep='\\t', index=False)\n",
    "        \n",
    "        # Write region summary\n",
    "        region_df = pd.DataFrame(region_data)\n",
    "        region_df.to_csv(self.output_dir / \"region_summary.tsv\", sep='\\t', index=False)\n",
    "\n",
    "    def run(self):\n",
    "        \"\"\"Main execution method.\"\"\"\n",
    "        regions = self.parse_bed()\n",
    "        \n",
    "        # Process each sample\n",
    "        sample_data_dict = {}\n",
    "        all_samples = set()\n",
    "        for region in regions:\n",
    "            all_samples.update(region['methylated_samples'])\n",
    "            all_samples.update(region['unmethylated_samples'])\n",
    "        \n",
    "        for sample_id in all_samples:\n",
    "            sample_data_dict[sample_id] = self.process_sample(sample_id, regions)\n",
    "        \n",
    "        # Process regions\n",
    "        region_data = self.process_regions(regions)\n",
    "        \n",
    "        # Write all outputs\n",
    "        self.write_outputs(sample_data_dict, region_data)\n",
    "\n",
    "def main():\n",
    "    parser = argparse.ArgumentParser(description='Map variants to regions with methylation status')\n",
    "    parser.add_argument('--vcf', required=True, help='Input VCF file path')\n",
    "    parser.add_argument('--bed', required=True, help='Input BED file path')\n",
    "    parser.add_argument('--outdir', required=True, help='Output directory path')\n",
    "    \n",
    "    args = parser.parse_args()\n",
    "    \n",
    "    mapper = SampleVariantMapper(args.vcf, args.bed, args.outdir)\n",
    "    mapper.run()\n",
    "\n",
    "if __name__ == '__main__':\n",
    "    main()"
   ]
  },
  {
   "cell_type": "code",
   "execution_count": null,
   "metadata": {},
   "outputs": [],
   "source": [
    "#!/bin/bash\n",
    "\n",
    "# Set input/output paths\n",
    "VCF_PATH=\"/path/to/variants.vcf.gz\"\n",
    "BED_PATH=\"/path/to/methylation.bed\"\n",
    "OUTPUT_DIR=\"/path/to/output\"\n",
    "\n",
    "# Run the variant mapper\n",
    "python3 variant_mapper.py \\\n",
    "    --vcf ${VCF_PATH} \\\n",
    "    --bed ${BED_PATH} \\\n",
    "    --outdir ${OUTPUT_DIR}"
   ]
  },
  {
   "cell_type": "code",
   "execution_count": null,
   "metadata": {},
   "outputs": [],
   "source": [
    "# generate figure of number of loci per sample __builtins__\n",
    "# map variants and characterize them"
   ]
  }
 ],
 "metadata": {
  "kernelspec": {
   "display_name": "anc_vig",
   "language": "python",
   "name": "python3"
  },
  "language_info": {
   "codemirror_mode": {
    "name": "ipython",
    "version": 3
   },
   "file_extension": ".py",
   "mimetype": "text/x-python",
   "name": "python",
   "nbconvert_exporter": "python",
   "pygments_lexer": "ipython3",
   "version": "3.12.5"
  }
 },
 "nbformat": 4,
 "nbformat_minor": 2
}
