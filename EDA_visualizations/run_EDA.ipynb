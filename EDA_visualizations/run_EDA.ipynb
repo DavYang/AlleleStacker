{
 "cells": [
  {
   "cell_type": "code",
   "execution_count": null,
   "metadata": {},
   "outputs": [],
   "source": [
    "# Directed to generate EDA visualizations for the input data of the simple allele-stacker project\n",
    "# Date: 2024-10-21\n",
    "# Author: David Yang"
   ]
  },
  {
   "cell_type": "code",
   "execution_count": 3,
   "metadata": {},
   "outputs": [
    {
     "name": "stdout",
     "output_type": "stream",
     "text": [
      "Submitted batch job 7557712\n"
     ]
    }
   ],
   "source": [
    "import os\n",
    "\n",
    "# Generates a plot for each sample by haplotype. The bar plots show the distribution of CpG methylation pileups.\n",
    "# Results stored in : /gs/gsfs0/shared-lab/greally-lab/David/simple_allele-stacker/EDA_visualizations/outputs/cpg_pileups\n",
    "!sbatch ./bash/pileup_dist.sh\n",
    "\n"
   ]
  },
  {
   "cell_type": "code",
   "execution_count": 2,
   "metadata": {},
   "outputs": [
    {
     "name": "stdout",
     "output_type": "stream",
     "text": [
      "Submitted batch job 7903361\n"
     ]
    }
   ],
   "source": [
    "import os\n",
    "# generates bar plots for each sample of the segmentation results, showing the number of regions by segmentation label.\n",
    "# results in : /gs/gsfs0/shared-lab/greally-lab/David/simple_allele-stacker/EDA_visualizations/outputs/segmentation_EDA/region_counts\n",
    "!sbatch ./bash/segmentation_regions.sh"
   ]
  },
  {
   "cell_type": "code",
   "execution_count": 1,
   "metadata": {},
   "outputs": [
    {
     "name": "stdout",
     "output_type": "stream",
     "text": [
      "Submitted batch job 7905345\n"
     ]
    }
   ],
   "source": [
    "import os\n",
    "# generates plots for fitltered consesnsus region, displaying randomly selected regions as well as regions with high sample coverage and discrepant methylation\n",
    "# outputs : /gs/gsfs0/shared-lab/greally-lab/David/simple_allele-stacker/EDA_visualizations/outputs/region_seg_calls/min_sample-1\n",
    "!sbatch ./bash/region_meth_distribution.sh"
   ]
  },
  {
   "cell_type": "markdown",
   "metadata": {},
   "source": []
  },
  {
   "cell_type": "code",
   "execution_count": 6,
   "metadata": {},
   "outputs": [
    {
     "name": "stdout",
     "output_type": "stream",
     "text": [
      "Submitted batch job 7907954\n"
     ]
    }
   ],
   "source": [
    "import os\n",
    "# generates a plot of the number of filtered consensus regions (hits) per chromosome\n",
    "!sbatch ./bash/regions_per_chr.sh /gs/gsfs0/shared-lab/greally-lab/David/AlleleStacker_tests/AlleleStacker/outputs/filtered_consensus_regions/min_sample-1/all_samples /gs/gsfs0/shared-lab/greally-lab/David/AlleleStacker_tests/AlleleStacker/EDA_visualizations/outputs/regions_per_chr/plot"
   ]
  },
  {
   "cell_type": "code",
   "execution_count": null,
   "metadata": {},
   "outputs": [],
   "source": []
  }
 ],
 "metadata": {
  "kernelspec": {
   "display_name": "anc_vig",
   "language": "python",
   "name": "python3"
  },
  "language_info": {
   "codemirror_mode": {
    "name": "ipython",
    "version": 3
   },
   "file_extension": ".py",
   "mimetype": "text/x-python",
   "name": "python",
   "nbconvert_exporter": "python",
   "pygments_lexer": "ipython3",
   "version": "3.12.5"
  }
 },
 "nbformat": 4,
 "nbformat_minor": 2
}
