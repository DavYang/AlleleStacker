{
 "cells": [
  {
   "cell_type": "code",
   "execution_count": 2,
   "metadata": {},
   "outputs": [],
   "source": [
    "# Exploratory data analyses and (EDA) visualizations for AlleleStacker\n",
    "# Date: 2024-10-21\n",
    "# Author: David Yang"
   ]
  },
  {
   "cell_type": "markdown",
   "metadata": {},
   "source": [
    "#### CpG Methylation Pileup Plots"
   ]
  },
  {
   "cell_type": "code",
   "execution_count": 3,
   "metadata": {},
   "outputs": [
    {
     "name": "stdout",
     "output_type": "stream",
     "text": [
      "Submitted batch job 8698075\n"
     ]
    }
   ],
   "source": [
    "import os\n",
    "\n",
    "# Generates a plot per sample which shows the distribution of CpG methylation pileups.\n",
    "\n",
    "# Set the base directory\n",
    "BASE_DIR=\"/gs/gsfs0/users/greally-lab/David/6_base-seq_SC1/WGS-analysis/outputs_compiled/20240501-results/cpg_pileup_beds\"\n",
    "# Set the output base directory\n",
    "OUTPUT_BASE_DIR=\"/gs/gsfs0/shared-lab/greally-lab/David/AlleleStacker_tests/AlleleStacker/EDA_visualizations/outputs/cpg_pileups\"\n",
    "\n",
    "!sbatch ./bash/pileup_dist.sh $BASE_DIR $OUTPUT_BASE_DIR\n",
    "\n"
   ]
  },
  {
   "cell_type": "markdown",
   "metadata": {},
   "source": [
    "### Segmentation Plots"
   ]
  },
  {
   "cell_type": "code",
   "execution_count": 30,
   "metadata": {},
   "outputs": [
    {
     "name": "stdout",
     "output_type": "stream",
     "text": [
      "srun: job 8764131 queued and waiting for resources\n",
      "srun: job 8764131 has been allocated resources\n"
     ]
    }
   ],
   "source": [
    "import os\n",
    "# Summarize the segmentation results for each sample.\n",
    "# Summary plots of the region counts and region sizes\n",
    "\n",
    "INPUT_DIR=\"/gs/gsfs0/shared-lab/greally-lab/David/AlleleStacker_tests/AlleleStacker/outputs/segmentation\"\n",
    "OUTPUT_DIR=\"/gs/gsfs0/shared-lab/greally-lab/David/AlleleStacker_tests/AlleleStacker/EDA_visualizations/outputs/segmentation_EDA\"\n",
    "\n",
    "\n",
    "# !sbatch ./bash/plot_segmentation_sample.sh $INPUT_DIR $OUTPUT_DIR\n",
    "\n",
    "!srun ./bash/plot_segmentation_group.sh $INPUT_DIR $OUTPUT_DIR\n",
    "\n",
    "\n"
   ]
  },
  {
   "cell_type": "code",
   "execution_count": 9,
   "metadata": {},
   "outputs": [
    {
     "name": "stdout",
     "output_type": "stream",
     "text": [
      "Submitted batch job 8698127\n",
      "Submitted batch job 8698128\n"
     ]
    }
   ],
   "source": [
    "import os\n",
    "# generates a plot of the number of filtered consensus regions (hits) per chromosome\n",
    "\n",
    "# set the input and output directories for AS w/ pileup QC\n",
    "INPUT_DIR=\"/gs/gsfs0/shared-lab/greally-lab/David/AlleleStacker_tests/AlleleStacker/outputs/candidate_regions/filtered\"\n",
    "OUTPUT_DIR=\"/gs/gsfs0/shared-lab/greally-lab/David/AlleleStacker_tests/AlleleStacker/EDA_visualizations/outputs/candidate_region_EDA/pileup_QC\"\n",
    "\n",
    "!sbatch ./bash/candidate_region_EDA.sh $INPUT_DIR $OUTPUT_DIR\n",
    "\n",
    "\n",
    "\n",
    "# set the input and output directories for AS without pileup QC\n",
    "INPUT_DIR=\"/gs/gsfs0/shared-lab/greally-lab/David/AlleleStacker_tests/AlleleStacker/old_QC_AS/outputs/filtered_consensus_regions\"\n",
    "OUTPUT_DIR=\"/gs/gsfs0/shared-lab/greally-lab/David/AlleleStacker_tests/AlleleStacker/EDA_visualizations/outputs/candidate_region_EDA/no-pileup_QC\"\n",
    "\n",
    "!sbatch ./bash/candidate_region_EDA.sh $INPUT_DIR $OUTPUT_DIR"
   ]
  },
  {
   "cell_type": "code",
   "execution_count": 6,
   "metadata": {},
   "outputs": [
    {
     "name": "stdout",
     "output_type": "stream",
     "text": [
      "Submitted batch job 8698119\n"
     ]
    }
   ],
   "source": [
    "import os\n",
    "# generates plots for candidate regions, displaying randomly selected regions as well as regions with high sample coverage and discrepant methylation\n",
    "\n",
    "\n",
    "INPUT_DIR=\"/gs/gsfs0/shared-lab/greally-lab/David/AlleleStacker_tests/AlleleStacker/outputs/candidate_regions/filtered\"\n",
    "OUTPUT_DIR=\"/gs/gsfs0/shared-lab/greally-lab/David/AlleleStacker_tests/AlleleStacker/EDA_visualizations/outputs/segmentation_EDA/candidate_regions\"\n",
    "\n",
    "!sbatch ./bash/region_meth_distribution.sh  $INPUT_DIR $OUTPUT_DIR"
   ]
  },
  {
   "cell_type": "markdown",
   "metadata": {},
   "source": []
  },
  {
   "cell_type": "code",
   "execution_count": 7,
   "metadata": {},
   "outputs": [
    {
     "name": "stdout",
     "output_type": "stream",
     "text": [
      "Submitted batch job 8698120\n"
     ]
    }
   ],
   "source": [
    "import os\n",
    "# generates a plot of the number of filtered consensus regions (hits) per chromosome\n",
    "INPUT_DIR=\"/gs/gsfs0/shared-lab/greally-lab/David/AlleleStacker_tests/AlleleStacker/outputs/candidate_regions/filtered\"\n",
    "\n",
    "OUTPUT_DIR=\"/gs/gsfs0/shared-lab/greally-lab/David/AlleleStacker_tests/AlleleStacker/EDA_visualizations/outputs/candidate_regions_per_chr\"\n",
    "\n",
    "\n",
    "!sbatch ./bash/regions_per_chr.sh $INPUT_DIR $OUTPUT_DIR\n"
   ]
  },
  {
   "cell_type": "code",
   "execution_count": null,
   "metadata": {},
   "outputs": [],
   "source": []
  }
 ],
 "metadata": {
  "kernelspec": {
   "display_name": "anc_vig",
   "language": "python",
   "name": "python3"
  },
  "language_info": {
   "codemirror_mode": {
    "name": "ipython",
    "version": 3
   },
   "file_extension": ".py",
   "mimetype": "text/x-python",
   "name": "python",
   "nbconvert_exporter": "python",
   "pygments_lexer": "ipython3",
   "version": "3.12.5"
  }
 },
 "nbformat": 4,
 "nbformat_minor": 2
}
