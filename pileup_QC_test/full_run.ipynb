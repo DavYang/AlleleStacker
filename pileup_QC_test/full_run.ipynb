{
 "cells": [
  {
   "cell_type": "code",
   "execution_count": 1,
   "metadata": {},
   "outputs": [
    {
     "name": "stdout",
     "output_type": "stream",
     "text": [
      "/gs/gsfs0/users/greally-lab/David/LRS_data_analysis_tutorials/CpG_pileup_QC/bash\n"
     ]
    }
   ],
   "source": [
    "# Set up environment\n",
    "import os\n",
    "import sys\n",
    "\n",
    "# Set up paths\n",
    "base_dir = \"/gs/gsfs0/users/greally-lab/David/LRS_data_analysis_tutorials/CpG_pileup_QC\"\n",
    "bash_script_path = os.path.join(base_dir, \"bash\")\n",
    "\n",
    "print(bash_script_path)"
   ]
  },
  {
   "cell_type": "code",
   "execution_count": 5,
   "metadata": {},
   "outputs": [
    {
     "name": "stdout",
     "output_type": "stream",
     "text": [
      "Submitted batch job 8161419\n"
     ]
    }
   ],
   "source": [
    "samples_file = \"sample_list.txt\"\n",
    "config_file = \"config.yaml\"\n",
    "output_dir = \"/gs/gsfs0/shared-lab/greally-lab/David/LRS_data_analysis_tutorials/CpG_pileup_QC/outputs/all_samples-12-10\"\n",
    "\n",
    "!sbatch $bash_script_path/submit_pileup_qc.sh $samples_file $config_file $output_dir\n"
   ]
  }
 ],
 "metadata": {
  "kernelspec": {
   "display_name": "anc_vig",
   "language": "python",
   "name": "anc_vig"
  },
  "language_info": {
   "codemirror_mode": {
    "name": "ipython",
    "version": 3
   },
   "file_extension": ".py",
   "mimetype": "text/x-python",
   "name": "python",
   "nbconvert_exporter": "python",
   "pygments_lexer": "ipython3",
   "version": "3.12.5"
  }
 },
 "nbformat": 4,
 "nbformat_minor": 2
}
